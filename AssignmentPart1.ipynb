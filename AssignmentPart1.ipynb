{
 "cells": [
  {
   "cell_type": "markdown",
   "metadata": {},
   "source": [
    "# Description of the problem\n",
    "---\n",
    "### Problem Statment\n",
    "\n",
    "In Toronto-Canada, if someone is looking to open an Asian restaurant, where would you recommend that they open it?\n",
    "\n",
    "### Problem Description/Objective\n",
    "The objective of this project is to find the best suitable location(s) to open a new Asian restaurant in Toronto, Canada. \n",
    "To be more Specific, this project tries to find the locations where there is very minimum or no   competition for the Asian food. There might me many other factors to be considered to open a restaurant but in this project we are considering only the competition or number of Asian restaurants already present in that area to recommend a location. \n",
    "\n",
    "### Target Audience\n",
    "Any person or organization who want to open an Asian restaurant in Toronto Canada.\n",
    "\n",
    "  "
   ]
  },
  {
   "cell_type": "markdown",
   "metadata": {},
   "source": [
    "\n",
    "# Description of the data\n",
    "---\n",
    "\n",
    "To solve this problem, I will need the location related data of the existing Asian restaurants. As this data is not available directly we need to use/join the 3 below data sets.\n",
    "\n",
    "#### 1.\tNeighborhood-Postcode data from Wikipedia. \n",
    "#### 2.\tPostcode-coordinates (Latitude and Longitude) from Geospatial data.\n",
    "#### 3.\tvenue-locations using Foursquare API.\n",
    "\n",
    "<div class=\"alert alert-block alert-success\">\n",
    "The variable of interest in Neighborhood-Postcode data are :\n",
    "\n",
    "1.\tPostcode – postal code of an area\n",
    "2.\tBorough - a town or district which is an administrative unit.\n",
    "3.\tNeighbourhood – a small area\n",
    "</div>\n",
    "\n",
    "<div class=\"alert alert-block alert-success\">\n",
    "The variable of interest in Postcode-coordinates data are:\n",
    "\n",
    "1.\tPostal Code – postal code of an area\n",
    "2.\tLatitude \n",
    "3.\tLongitude\n",
    "</div>\n",
    "\n",
    "<div class=\"alert alert-block alert-success\">\n",
    "The variable of interest in Venue-locations data are:\n",
    "\n",
    "1.\tNeighborhood\n",
    "2.\tVenue\n",
    "3.\tVenue Latitude \n",
    "4.\tVenue Longitude \n",
    "5.\tVenue Category\n",
    "</div>"
   ]
  }
 ],
 "metadata": {
  "kernelspec": {
   "display_name": "Python 3",
   "language": "python",
   "name": "python3"
  },
  "language_info": {
   "codemirror_mode": {
    "name": "ipython",
    "version": 3
   },
   "file_extension": ".py",
   "mimetype": "text/x-python",
   "name": "python",
   "nbconvert_exporter": "python",
   "pygments_lexer": "ipython3",
   "version": "3.7.4"
  }
 },
 "nbformat": 4,
 "nbformat_minor": 2
}
